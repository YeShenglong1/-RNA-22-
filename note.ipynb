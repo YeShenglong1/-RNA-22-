{
 "cells": [
  {
   "cell_type": "markdown",
   "metadata": {
    "collapsed": false
   },
   "source": [
    "##### For English, please click <a href=\"#header-en\">here</a> to redirect"
   ]
  },
  {
   "cell_type": "markdown",
   "metadata": {
    "collapsed": false
   },
   "source": [
    "<h1 id=\"header-ch\">RNA碱基不成对概率预测的基线模型</h1>\n",
    "\n",
    "\n",
    "RNA结构预测竞赛：RNA碱基不成对概率预测基线模型现已开放，采用非常简单的网络模型，就能得到还不错的结果。欢迎开发者贡献更好的基线作品~"
   ]
  },
  {
   "cell_type": "markdown",
   "metadata": {
    "collapsed": false
   },
   "source": [
    "# 赛题介绍\n",
    "\n",
    "“RNA碱基不成对概率”衡量了RNA序列在各个点位是否能形成稳定的碱基对（base pair），是RNA结构的重要属性，并可被应用在mRNA疫苗序列设计、药物研发等领域。例如mRNA疫苗序列通常不稳定，而RNA碱基不成对概率较高的点位正是易被降解的位置；又如RNA 碱基不成对概率较高的点位通常更容易与其他RNA序列相互作用，形成RNA-RNA binding等，这一特性也被广泛应用于疾病诊断和RNA药物研发。\n",
    "\n",
    "本次比赛提供了5000条训练数据，请选手基于训练数据和飞桨平台，开发模型预测RNA碱基不成对概率。\n",
    "\n",
    "（<span style='color:red'>Tips：机器学习框架方面只允许使用飞桨深度学习框架哦</span>）"
   ]
  },
  {
   "cell_type": "markdown",
   "metadata": {
    "collapsed": false
   },
   "source": [
    "# 竞赛数据集 "
   ]
  },
  {
   "cell_type": "code",
   "execution_count": null,
   "metadata": {
    "collapsed": false
   },
   "outputs": [],
   "source": [
    "# 检查数据集所在路径\n",
    "!tree /home/aistudio/data"
   ]
  },
  {
   "cell_type": "markdown",
   "metadata": {
    "collapsed": false
   },
   "source": [
    "# 基线系统代码结构\n",
    "\n",
    "本次基线基于飞桨PaddlePaddle2.0版本。"
   ]
  },
  {
   "cell_type": "code",
   "execution_count": 1,
   "metadata": {
    "collapsed": false
   },
   "outputs": [
    {
     "name": "stdout",
     "output_type": "stream",
     "text": [
      "/home/aistudio/work\r\n",
      "├── data\r\n",
      "│   ├── dev.txt\r\n",
      "│   ├── test_nolabel.txt\r\n",
      "│   ├── test.txt\r\n",
      "│   └── train.txt\r\n",
      "├── elmo_model\r\n",
      "│   └── elmo_model_dev=0.0670\r\n",
      "├── model\r\n",
      "│   ├── model_dev=0.0671\r\n",
      "│   ├── model_dev=0.0694\r\n",
      "│   ├── model_dev=0.2135\r\n",
      "│   └── placeholder.txt\r\n",
      "├── model-0\r\n",
      "│   └── model_dev=0.0772\r\n",
      "├── README.txt\r\n",
      "├── result.zip\r\n",
      "├── src\r\n",
      "│   ├── const.py\r\n",
      "│   ├── dataset.py\r\n",
      "│   ├── __init__.py\r\n",
      "│   ├── main.py\r\n",
      "│   ├── network.py\r\n",
      "│   ├── __pycache__\r\n",
      "│   ├── utils.py\r\n",
      "│   └── vocabulary.py\r\n",
      "├── test_log.txt\r\n",
      "└── train_log.txt\r\n",
      "\r\n",
      "11 directories, 16 files\r\n"
     ]
    }
   ],
   "source": [
    "# 检查源代码文件结构\n",
    "# !cd work; mkdir model\n",
    "!tree /home/aistudio/work -L 2"
   ]
  },
  {
   "cell_type": "markdown",
   "metadata": {
    "collapsed": false
   },
   "source": [
    "代码思路：在baseline基础上，对dot和seq的embeddding分别过一个双向LSTM去得到新的对应的embedding."
   ]
  },
  {
   "cell_type": "markdown",
   "metadata": {
    "collapsed": false
   },
   "source": [
    "## 训练脚本\n",
    "\n",
    "`python src/main.py train --model-path-base [model_directory_name]`\n",
    "\n",
    "本代码会训练一个模型，并且保存到指定位置，训练日志默认保存到文件`train_log.txt`   \n",
    "注意：由于初始化的不稳定，可能需要多次训练，比较合理的验证集(dev)均方误差损失值(MSE loss)为0.05-0.08  \n",
    "\n",
    "#### 样例\n",
    "`python src/main.py train --model-path-base elmo_model`\n",
    "\n",
    "#### 你将会看到类似如下的训练日志\n",
    "```\n",
    "epoch 1 batch 40 processed 640 batch-loss 0.1984 epoch-elapsed 0h00m10s total-elapsed 0h00m11s \n",
    "epoch 1 batch 41 processed 656 batch-loss 0.2119 epoch-elapsed 0h00m10s total-elapsed 0h00m11s \n",
    "epoch 1 batch 42 processed 672 batch-loss 0.2205 epoch-elapsed 0h00m11s total-elapsed 0h00m11s \n",
    "epoch 1 batch 43 processed 688 batch-loss 0.2128 epoch-elapsed 0h00m11s total-elapsed 0h00m11s \n",
    "# Dev Average Loss: 0.212 (MSE) -> 0.461 (RMSD)\n",
    "```\n",
    "\n",
    "#### 注意事项\n",
    "请使用<span style='color:red'>GPU版本</span>的配置环境运行本模块"
   ]
  },
  {
   "cell_type": "code",
   "execution_count": null,
   "metadata": {
    "collapsed": false
   },
   "outputs": [],
   "source": [
    "# To train:\n",
    "# python src/main.py train --model-path-base [model_directory_name]\n",
    "\n",
    "!cd work; python src/main.py train --model-path-base elmo_model"
   ]
  },
  {
   "cell_type": "markdown",
   "metadata": {
    "collapsed": false
   },
   "source": [
    "## 预测脚本\n",
    "\n",
    "`python src/main.py test --model-path-base [saved_model_directory]`  \n",
    "\n",
    "本代码会预测一个模型，日志和结果默认保存到文件`test_log.txt` \n",
    "\n",
    "#### 样例  \n",
    "1. 用<span style='color:red'>不带标签</span>的测试集来预测：  \n",
    "`python src/main.py test --model-path-base elmo_model/elmo_model_dev\\=0.0670`\n",
    "\n",
    "会得到一个result.zip的文件，修改文件名即可提交\n",
    "\n",
    "\n",
    "\n",
    "#### 注意事项\n",
    "请使用<span style='color:red'>GPU版本</span>的配置环境运行本模块"
   ]
  },
  {
   "cell_type": "code",
   "execution_count": 6,
   "metadata": {
    "collapsed": false
   },
   "outputs": [
    {
     "name": "stdout",
     "output_type": "stream",
     "text": [
      "/opt/conda/envs/python35-paddle120-env/lib/python3.7/site-packages/paddle/fluid/layers/utils.py:26: DeprecationWarning: `np.int` is a deprecated alias for the builtin `int`. To silence this warning, use `int` by itself. Doing this will not modify any behavior and is safe. When replacing `np.int`, you may wish to use e.g. `np.int64` or `np.int32` to specify the precision. If you wish to review your current use, check the release note link for additional information.\n",
      "Deprecated in NumPy 1.20; for more details and guidance: https://numpy.org/devdocs/release/1.20.0-notes.html#deprecations\n",
      "  def convert_to_list(value, n, name, dtype=np.int):\n",
      "Loading data...\n",
      "Loading model...\n",
      "W0514 18:05:20.188460   564 device_context.cc:362] Please NOTE: device: 0, GPU Compute Capability: 7.0, Driver API Version: 10.1, Runtime API Version: 10.1\n",
      "W0514 18:05:20.193595   564 device_context.cc:372] device: 0, cuDNN Version: 7.6.\n"
     ]
    }
   ],
   "source": [
    "# To test 1:\n",
    "# python src/main.py test --model-path-base [saved_model_directory]\n",
    "\n",
    "!cd work; python src/main.py test --model-path-base elmo_model/elmo_model_dev\\=0.0670"
   ]
  },
  {
   "cell_type": "code",
   "execution_count": null,
   "metadata": {
    "collapsed": false
   },
   "outputs": [],
   "source": [
    "# To test 2:\n",
    "# python src/main.py test_withlabel --model-path-base [saved_model_directory]\n",
    "\n",
    "# 由于比赛的公开数据不提供测试集的标签，故本基线模型无法运行预设的test_withlabel，除非用户自己生成一个带标签的测试集~/data/test.txt\n",
    "#### !cd work; python src/main.py test_withlabel --model-path-base model-0/model_dev\\=0.0772"
   ]
  }
 ],
 "metadata": {
  "kernelspec": {
   "display_name": "PaddlePaddle 2.0.0b0 (Python 3.5)",
   "language": "python",
   "name": "py35-paddle1.2.0"
  },
  "language_info": {
   "codemirror_mode": {
    "name": "ipython",
    "version": 3
   },
   "file_extension": ".py",
   "mimetype": "text/x-python",
   "name": "python",
   "nbconvert_exporter": "python",
   "pygments_lexer": "ipython3",
   "version": "3.7.4"
  }
 },
 "nbformat": 4,
 "nbformat_minor": 1
}
